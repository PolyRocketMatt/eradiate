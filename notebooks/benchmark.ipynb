{
 "cells": [
  {
   "cell_type": "markdown",
   "metadata": {},
   "source": [
    "# Ocean BRDF Benchmark"
   ]
  },
  {
   "cell_type": "code",
   "execution_count": 41,
   "metadata": {},
   "outputs": [],
   "source": [
    "import json\n",
    "import os\n",
    "import drjit as dr\n",
    "import mitsuba as mi\n",
    "import numpy as np\n",
    "import matplotlib.pyplot as plt"
   ]
  },
  {
   "cell_type": "markdown",
   "metadata": {},
   "source": [
    "## Loading Data"
   ]
  },
  {
   "cell_type": "markdown",
   "metadata": {},
   "source": [
    "First, we load the data from the data files. This JSON file is a dictionary which contains:\n",
    "\n",
    "* (The wavelength at which the data was generated)\n",
    "* (The wind speed at which the data was generated)\n",
    "* Oceanic properties such as salinity, chlorinity and pigmentation\n",
    "* The data itself, consisting of incoming directions, for which multiple outgoing directions have been evaluated"
   ]
  },
  {
   "cell_type": "code",
   "execution_count": 42,
   "metadata": {},
   "outputs": [],
   "source": [
    "wind_speed_benchmark = 10\n",
    "wavelength_benchmark = 2.2\n",
    "\n",
    "def load_data():\n",
    "    with open(f'data/data_{wind_speed_benchmark}ms_{wavelength_benchmark}.json') as file:\n",
    "        data = json.load(file)\n",
    "        return data"
   ]
  },
  {
   "cell_type": "code",
   "execution_count": 43,
   "metadata": {},
   "outputs": [],
   "source": [
    "benchmark_data = load_data()\n",
    "\n",
    "# Obtain the other parameters from the data\n",
    "solar_azimuth = benchmark_data['solar_azimuth']\n",
    "view_azimuth = benchmark_data['view_azimuth']\n",
    "wind_direction = benchmark_data['wind_direction']\n",
    "salinity = benchmark_data['salinity']\n",
    "chlorinity = benchmark_data['chlorinity']\n",
    "pigmentation = benchmark_data['pigmentation']\n",
    "\n",
    "# Solar Data\n",
    "solar_data = benchmark_data['data']"
   ]
  },
  {
   "cell_type": "markdown",
   "metadata": {},
   "source": [
    "Next, we can construct each benchmark entry. The solar data contains an array of different solar zeniths. For each of these zeniths, many outgoing directions have been sampled. One sample from this dataset is **a complete observation for a given solar zenith**."
   ]
  },
  {
   "cell_type": "code",
   "execution_count": 44,
   "metadata": {},
   "outputs": [
    {
     "name": "stdout",
     "output_type": "stream",
     "text": [
      "0.0\n",
      "0.03530325077897621\n",
      "0.07060650155795242\n",
      "0.10590975233692863\n",
      "0.14121300311590484\n",
      "0.17651625389488107\n",
      "0.21181950467385727\n",
      "0.24712275545283346\n",
      "0.2824260062318097\n",
      "0.3177292570107859\n",
      "0.35303250778976214\n",
      "0.3883357585687383\n",
      "0.42363900934771453\n",
      "0.45894226012669076\n",
      "0.49424551090566693\n",
      "0.5295487616846432\n",
      "0.5648520124636194\n",
      "0.6001552632425956\n",
      "0.6354585140215718\n",
      "0.670761764800548\n",
      "0.7060650155795243\n",
      "0.7413682663585004\n",
      "0.7766715171374766\n",
      "0.8119747679164528\n",
      "0.8472780186954291\n",
      "0.8825812694744053\n",
      "0.9178845202533815\n",
      "0.9531877710323577\n",
      "0.9884910218113339\n",
      "1.0237942725903102\n",
      "1.0590975233692863\n",
      "1.0944007741482626\n",
      "1.1297040249272388\n",
      "1.1650072757062149\n",
      "1.2003105264851912\n",
      "1.2356137772641673\n",
      "1.2709170280431437\n",
      "1.3062202788221198\n",
      "1.341523529601096\n",
      "1.3768267803800722\n",
      "1.4121300311590486\n",
      "1.4474332819380247\n",
      "1.4827365327170008\n",
      "1.5180397834959771\n",
      "1.5533430342749532\n"
     ]
    }
   ],
   "source": [
    "for key, entry in solar_data.items():\n",
    "    solar_zenith = float(key)\n",
    "\n",
    "    # Extract the data\n",
    "    for key, item in entry.items():\n",
    "        outgoing_zenith = item['outgoing_zenith']\n",
    "        foam = item['foam']\n",
    "        glint = item['glint']\n",
    "        water = item['water']\n",
    "        total = item['total']\n",
    "        foam_percent = item['foam_percent']\n",
    "        glint_percent = item['glint_percent']\n",
    "        water_percent = item['water_percent']\n"
   ]
  }
 ],
 "metadata": {
  "kernelspec": {
   "display_name": "eradiate",
   "language": "python",
   "name": "python3"
  },
  "language_info": {
   "codemirror_mode": {
    "name": "ipython",
    "version": 3
   },
   "file_extension": ".py",
   "mimetype": "text/x-python",
   "name": "python",
   "nbconvert_exporter": "python",
   "pygments_lexer": "ipython3",
   "version": "3.9.19"
  }
 },
 "nbformat": 4,
 "nbformat_minor": 2
}
