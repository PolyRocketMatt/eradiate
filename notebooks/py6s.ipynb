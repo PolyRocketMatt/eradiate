{
 "cells": [
  {
   "cell_type": "code",
   "execution_count": 16,
   "metadata": {},
   "outputs": [],
   "source": [
    "from Py6S import *\n",
    "import numpy as np"
   ]
  },
  {
   "cell_type": "code",
   "execution_count": 17,
   "metadata": {},
   "outputs": [],
   "source": [
    "# Parameters\n",
    "wind_speed = 1\n",
    "wind_azimuth = 0\n",
    "salinity = 34.3\n",
    "pigmentation = 0.3\n",
    "\n",
    "# Boundary Parameters\n",
    "max_outgoing_zenith = 89\n",
    "resolution = 25"
   ]
  },
  {
   "cell_type": "code",
   "execution_count": 18,
   "metadata": {},
   "outputs": [],
   "source": [
    "s = SixS()\n",
    "s.wavelength = Wavelength(2.2)\n",
    "s.atmos_profile = AtmosProfile.PredefinedType(AtmosProfile.NoGaseousAbsorption)\n",
    "s.aero_profile = AeroProfile.PredefinedType(AeroProfile.NoAerosols)\n",
    "s.ground_reflectance = GroundReflectance.HomogeneousOcean(wind_speed, wind_azimuth, salinity, pigmentation)"
   ]
  },
  {
   "cell_type": "code",
   "execution_count": 19,
   "metadata": {},
   "outputs": [],
   "source": [
    "# Run 6S for a variety of geometries\n",
    "outgoing_azimuth = 180\n",
    "outgoing_zeniths = np.linspace(0, np.deg2rad(max_outgoing_zenith), max_outgoing_zenith)    \n",
    "\n",
    "\n",
    "incoming_azimuth = 0\n",
    "incoming_zeniths = np.linspace(0, np.deg2rad(89), 90)"
   ]
  },
  {
   "cell_type": "code",
   "execution_count": 20,
   "metadata": {},
   "outputs": [
    {
     "name": "stdout",
     "output_type": "stream",
     "text": [
      "Progress: 1/90\n",
      "Progress: 2/90\n",
      "Progress: 3/90\n",
      "Progress: 4/90\n",
      "Progress: 5/90\n",
      "Progress: 6/90\n",
      "Progress: 7/90\n",
      "Progress: 8/90\n",
      "Progress: 9/90\n",
      "Progress: 10/90\n",
      "Progress: 11/90\n",
      "Progress: 12/90\n",
      "Progress: 13/90\n",
      "Progress: 14/90\n",
      "Progress: 15/90\n",
      "Progress: 16/90\n",
      "Progress: 17/90\n",
      "Progress: 18/90\n",
      "Progress: 19/90\n",
      "Progress: 20/90\n",
      "Progress: 21/90\n",
      "Progress: 22/90\n",
      "Progress: 23/90\n",
      "Progress: 24/90\n",
      "Progress: 25/90\n",
      "Progress: 26/90\n",
      "Progress: 27/90\n",
      "Progress: 28/90\n",
      "Progress: 29/90\n",
      "Progress: 30/90\n",
      "Progress: 31/90\n",
      "Progress: 32/90\n",
      "Progress: 33/90\n",
      "Progress: 34/90\n",
      "Progress: 35/90\n",
      "Progress: 36/90\n",
      "Progress: 37/90\n",
      "Progress: 38/90\n",
      "Progress: 39/90\n",
      "Progress: 40/90\n",
      "Progress: 41/90\n",
      "Progress: 42/90\n",
      "Progress: 43/90\n",
      "Progress: 44/90\n",
      "Progress: 45/90\n",
      "Progress: 46/90\n",
      "Progress: 47/90\n",
      "Progress: 48/90\n",
      "Progress: 49/90\n",
      "Progress: 50/90\n",
      "Progress: 51/90\n",
      "Progress: 52/90\n",
      "Progress: 53/90\n"
     ]
    },
    {
     "ename": "KeyboardInterrupt",
     "evalue": "",
     "output_type": "error",
     "traceback": [
      "\u001b[0;31m---------------------------------------------------------------------------\u001b[0m",
      "\u001b[0;31mKeyboardInterrupt\u001b[0m                         Traceback (most recent call last)",
      "Cell \u001b[0;32mIn[20], line 25\u001b[0m\n\u001b[1;32m     22\u001b[0m \u001b[38;5;28;01mwith\u001b[39;00m ThreadPoolExecutor(max_workers\u001b[38;5;241m=\u001b[39m\u001b[38;5;241m20\u001b[39m) \u001b[38;5;28;01mas\u001b[39;00m executor:\n\u001b[1;32m     23\u001b[0m     futures \u001b[38;5;241m=\u001b[39m [executor\u001b[38;5;241m.\u001b[39msubmit(process, outgoing_zenith) \u001b[38;5;28;01mfor\u001b[39;00m outgoing_zenith \u001b[38;5;129;01min\u001b[39;00m outgoing_zeniths]\n\u001b[0;32m---> 25\u001b[0m \u001b[43m    \u001b[49m\u001b[38;5;28;43;01mfor\u001b[39;49;00m\u001b[43m \u001b[49m\u001b[43mfuture\u001b[49m\u001b[43m \u001b[49m\u001b[38;5;129;43;01min\u001b[39;49;00m\u001b[43m \u001b[49m\u001b[43mas_completed\u001b[49m\u001b[43m(\u001b[49m\u001b[43mfutures\u001b[49m\u001b[43m)\u001b[49m\u001b[43m:\u001b[49m\n\u001b[1;32m     26\u001b[0m \u001b[43m        \u001b[49m\u001b[43moutgoing_zenith\u001b[49m\u001b[43m,\u001b[49m\u001b[43m \u001b[49m\u001b[43mreflectance\u001b[49m\u001b[43m \u001b[49m\u001b[38;5;241;43m=\u001b[39;49m\u001b[43m \u001b[49m\u001b[43mfuture\u001b[49m\u001b[38;5;241;43m.\u001b[39;49m\u001b[43mresult\u001b[49m\u001b[43m(\u001b[49m\u001b[43m)\u001b[49m\n\u001b[1;32m     27\u001b[0m \u001b[43m        \u001b[49m\u001b[43mreflectances\u001b[49m\u001b[43m[\u001b[49m\u001b[43moutgoing_zenith\u001b[49m\u001b[43m]\u001b[49m\u001b[43m \u001b[49m\u001b[38;5;241;43m=\u001b[39;49m\u001b[43m \u001b[49m\u001b[43mreflectance\u001b[49m\n",
      "File \u001b[0;32m/opt/anaconda3/envs/py6s-env/lib/python3.12/concurrent/futures/_base.py:243\u001b[0m, in \u001b[0;36mas_completed\u001b[0;34m(fs, timeout)\u001b[0m\n\u001b[1;32m    238\u001b[0m     \u001b[38;5;28;01mif\u001b[39;00m wait_timeout \u001b[38;5;241m<\u001b[39m \u001b[38;5;241m0\u001b[39m:\n\u001b[1;32m    239\u001b[0m         \u001b[38;5;28;01mraise\u001b[39;00m \u001b[38;5;167;01mTimeoutError\u001b[39;00m(\n\u001b[1;32m    240\u001b[0m                 \u001b[38;5;124m'\u001b[39m\u001b[38;5;132;01m%d\u001b[39;00m\u001b[38;5;124m (of \u001b[39m\u001b[38;5;132;01m%d\u001b[39;00m\u001b[38;5;124m) futures unfinished\u001b[39m\u001b[38;5;124m'\u001b[39m \u001b[38;5;241m%\u001b[39m (\n\u001b[1;32m    241\u001b[0m                 \u001b[38;5;28mlen\u001b[39m(pending), total_futures))\n\u001b[0;32m--> 243\u001b[0m \u001b[43mwaiter\u001b[49m\u001b[38;5;241;43m.\u001b[39;49m\u001b[43mevent\u001b[49m\u001b[38;5;241;43m.\u001b[39;49m\u001b[43mwait\u001b[49m\u001b[43m(\u001b[49m\u001b[43mwait_timeout\u001b[49m\u001b[43m)\u001b[49m\n\u001b[1;32m    245\u001b[0m \u001b[38;5;28;01mwith\u001b[39;00m waiter\u001b[38;5;241m.\u001b[39mlock:\n\u001b[1;32m    246\u001b[0m     finished \u001b[38;5;241m=\u001b[39m waiter\u001b[38;5;241m.\u001b[39mfinished_futures\n",
      "File \u001b[0;32m/opt/anaconda3/envs/py6s-env/lib/python3.12/threading.py:655\u001b[0m, in \u001b[0;36mEvent.wait\u001b[0;34m(self, timeout)\u001b[0m\n\u001b[1;32m    653\u001b[0m signaled \u001b[38;5;241m=\u001b[39m \u001b[38;5;28mself\u001b[39m\u001b[38;5;241m.\u001b[39m_flag\n\u001b[1;32m    654\u001b[0m \u001b[38;5;28;01mif\u001b[39;00m \u001b[38;5;129;01mnot\u001b[39;00m signaled:\n\u001b[0;32m--> 655\u001b[0m     signaled \u001b[38;5;241m=\u001b[39m \u001b[38;5;28;43mself\u001b[39;49m\u001b[38;5;241;43m.\u001b[39;49m\u001b[43m_cond\u001b[49m\u001b[38;5;241;43m.\u001b[39;49m\u001b[43mwait\u001b[49m\u001b[43m(\u001b[49m\u001b[43mtimeout\u001b[49m\u001b[43m)\u001b[49m\n\u001b[1;32m    656\u001b[0m \u001b[38;5;28;01mreturn\u001b[39;00m signaled\n",
      "File \u001b[0;32m/opt/anaconda3/envs/py6s-env/lib/python3.12/threading.py:355\u001b[0m, in \u001b[0;36mCondition.wait\u001b[0;34m(self, timeout)\u001b[0m\n\u001b[1;32m    353\u001b[0m \u001b[38;5;28;01mtry\u001b[39;00m:    \u001b[38;5;66;03m# restore state no matter what (e.g., KeyboardInterrupt)\u001b[39;00m\n\u001b[1;32m    354\u001b[0m     \u001b[38;5;28;01mif\u001b[39;00m timeout \u001b[38;5;129;01mis\u001b[39;00m \u001b[38;5;28;01mNone\u001b[39;00m:\n\u001b[0;32m--> 355\u001b[0m         \u001b[43mwaiter\u001b[49m\u001b[38;5;241;43m.\u001b[39;49m\u001b[43macquire\u001b[49m\u001b[43m(\u001b[49m\u001b[43m)\u001b[49m\n\u001b[1;32m    356\u001b[0m         gotit \u001b[38;5;241m=\u001b[39m \u001b[38;5;28;01mTrue\u001b[39;00m\n\u001b[1;32m    357\u001b[0m     \u001b[38;5;28;01melse\u001b[39;00m:\n",
      "\u001b[0;31mKeyboardInterrupt\u001b[0m: "
     ]
    }
   ],
   "source": [
    "import json\n",
    "from concurrent.futures import ThreadPoolExecutor, as_completed\n",
    "\n",
    "file_names = []\n",
    "\n",
    "# Loop over tuple of outgoing azimuths and zeniths\n",
    "idx = 0\n",
    "max_idx = len(incoming_zeniths)\n",
    "for incoming_zenith in incoming_zeniths:\n",
    "    file_name = f\"reflectance_{incoming_zenith}.json\"\n",
    "    file_names.append(file_name)\n",
    "    reflectances = {}\n",
    "    def process(outgoing_zenith):\n",
    "        s.geometry = Geometry.User()\n",
    "        s.geometry.solar_z = np.rad2deg(incoming_zenith)\n",
    "        s.geometry.solar_a = np.rad2deg(incoming_azimuth)\n",
    "        s.geometry.view_z = np.rad2deg(outgoing_zenith)\n",
    "        s.geometry.view_a = np.rad2deg(outgoing_azimuth)\n",
    "        s.run()\n",
    "        return outgoing_zenith, s.outputs.values['apparent_reflectance']\n",
    "\n",
    "    with ThreadPoolExecutor(max_workers=20) as executor:\n",
    "        futures = [executor.submit(process, outgoing_zenith) for outgoing_zenith in outgoing_zeniths]\n",
    "\n",
    "        for future in as_completed(futures):\n",
    "            outgoing_zenith, reflectance = future.result()\n",
    "            reflectances[outgoing_zenith] = reflectance\n",
    "\n",
    "    # Save dataset as JSON to file in the 'data' directory\n",
    "    with open(f'data/{file_name}', 'w') as f:\n",
    "        json.dump(reflectances, f)\n",
    "\n",
    "    idx += 1\n",
    "    print(f\"Progress: {idx}/{max_idx}\")\n"
   ]
  },
  {
   "cell_type": "code",
   "execution_count": null,
   "metadata": {},
   "outputs": [],
   "source": [
    "# Combine all data found in the 'data' directory into a single JSON file\n",
    "combined_data = {}\n",
    "for file_name in file_names:\n",
    "    with open(f'data/{file_name}', 'r') as f:\n",
    "        data = json.load(f)\n",
    "        combined_data[file_name] = data\n",
    "print(f'Combined data!')\n",
    "\n",
    "with open(f'data/data_{wind_speed}ms.json', 'w') as f:\n",
    "    json.dump(combined_data, f)\n",
    "print(f'Saved combined data!')\n",
    "\n",
    "# Remove individual data files\n",
    "import os\n"
   ]
  },
  {
   "cell_type": "code",
   "execution_count": null,
   "metadata": {},
   "outputs": [],
   "source": [
    "for file_name in file_names:\n",
    "    os.remove(f'data/{file_name}')\n",
    "print(f'Removed individual data files!')"
   ]
  },
  {
   "cell_type": "code",
   "execution_count": null,
   "metadata": {},
   "outputs": [],
   "source": [
    "'''\n",
    "# Plot the reflectances\n",
    "import matplotlib.pyplot as plt\n",
    "\n",
    "# Convert incoming zeniths to degrees\n",
    "zenith_labels = np.rad2deg(outgoing_zeniths)\n",
    "\n",
    "plt.plot(zenith_labels, [reflectances[zenith] for zenith in outgoing_zeniths])\n",
    "\n",
    "plt.xlabel('Outgoing Zenith Angle')\n",
    "plt.ylabel('Reflectance')\n",
    "plt.title('Reflectance vs Outgoing Zenith Angle')\n",
    "plt.show()\n",
    "'''"
   ]
  }
 ],
 "metadata": {
  "kernelspec": {
   "display_name": "py6s-env",
   "language": "python",
   "name": "python3"
  },
  "language_info": {
   "codemirror_mode": {
    "name": "ipython",
    "version": 3
   },
   "file_extension": ".py",
   "mimetype": "text/x-python",
   "name": "python",
   "nbconvert_exporter": "python",
   "pygments_lexer": "ipython3",
   "version": "3.12.4"
  }
 },
 "nbformat": 4,
 "nbformat_minor": 2
}
