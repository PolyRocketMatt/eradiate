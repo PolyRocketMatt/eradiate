{
 "cells": [
  {
   "cell_type": "code",
   "execution_count": 1,
   "metadata": {},
   "outputs": [],
   "source": [
    "import numpy as np"
   ]
  },
  {
   "cell_type": "code",
   "execution_count": 2,
   "metadata": {},
   "outputs": [],
   "source": [
    "def gauss_legendre_2d(n_x, n_y, a, b, c, d):\n",
    "    # Compute 1D Gauss-Legendre points\n",
    "    p_x, w_x = np.polynomial.legendre.leggauss(n_x)\n",
    "    p_y, w_y = np.polynomial.legendre.leggauss(n_y)\n",
    "\n",
    "    # Transform\n",
    "    t_x = 0.5 * (p_x * (b - a) + (b + a))\n",
    "    t_y = 0.5 * (p_y * (d - c) + (d + c))\n",
    "\n",
    "    # Create 2D points using tensor product\n",
    "    x, y = np.meshgrid(t_x, t_y, indexing='ij')\n",
    "    points = np.vstack([x.ravel(), y.ravel()]).T\n",
    "\n",
    "    # Create weights using tensor product\n",
    "    w_x, w_y = np.meshgrid(w_x, w_y, indexing='ij')\n",
    "    weights = (w_x * w_y).ravel() * (b - a) / 2 * (d - c) / 2\n",
    "\n",
    "    return points, weights"
   ]
  },
  {
   "cell_type": "code",
   "execution_count": 3,
   "metadata": {},
   "outputs": [
    {
     "data": {
      "text/plain": [
       "137.99621229817012"
      ]
     },
     "execution_count": 3,
     "metadata": {},
     "output_type": "execute_result"
    }
   ],
   "source": [
    "n_x = 24\n",
    "n_y = 48\n",
    "\n",
    "def f(x, y):\n",
    "    return x**2 + y**2\n",
    "\n",
    "points, weights = gauss_legendre_2d(n_x, n_y, 0, 2 * np.pi, 0, np.pi / 2)\n",
    "integrand_values = np.array([f(x, y) for x, y in points])\n",
    "integral = np.dot(integrand_values, weights)\n",
    "\n",
    "integral"
   ]
  }
 ],
 "metadata": {
  "kernelspec": {
   "display_name": "eradiate",
   "language": "python",
   "name": "python3"
  },
  "language_info": {
   "codemirror_mode": {
    "name": "ipython",
    "version": 3
   },
   "file_extension": ".py",
   "mimetype": "text/x-python",
   "name": "python",
   "nbconvert_exporter": "python",
   "pygments_lexer": "ipython3",
   "version": "3.9.19"
  }
 },
 "nbformat": 4,
 "nbformat_minor": 2
}
