{
 "cells": [
  {
   "cell_type": "code",
   "execution_count": 11,
   "metadata": {},
   "outputs": [],
   "source": [
    "import numpy as np\n",
    "import drjit as dr\n",
    "import mitsuba as mi\n",
    "\n",
    "def hemisphere_quadrature():\n",
    "    pi = np.pi\n",
    "\n",
    "    # 24 x 48 point Gauss quadrature\n",
    "    azimuth_pts, azimuth_weights = np.polynomial.legendre.leggauss(48)  # Azimuth\n",
    "    zenith_pts, zenith_weights = np.polynomial.legendre.leggauss(24)    # Zenith\n",
    "\n",
    "    # Transformation of the azimuth: x = π(t + 1)       [-1, 1] => [0, 2π]\n",
    "    # Transform of the zenith: x = (π / 4)(t + 1)       [-1, 1] => [0, π/2]\n",
    "    transformed_azimuths = pi * (azimuth_pts + 1)\n",
    "    transformed_zeniths = (pi / 4) * (zenith_pts + 1)\n",
    "\n",
    "    print(zenith_weights)\n",
    "\n",
    "    # Create 2D points\n",
    "    points = np.array([[x, y] for x in transformed_azimuths for y in transformed_zeniths])\n",
    "\n",
    "    # Create weights (and don't forget the Jacobian)\n",
    "    jacobian = (pi ** 2) / 4.0\n",
    "    weights = np.array([wx * wy for wx in azimuth_weights for wy in zenith_weights]) * jacobian\n",
    "\n",
    "    # Round all points and weights\n",
    "    points = [[round(x, 8), round(y, 8)] for x, y in points]\n",
    "    weights = [round(w, 8) for w in weights]\n",
    "\n",
    "    return points, weights"
   ]
  },
  {
   "cell_type": "code",
   "execution_count": 12,
   "metadata": {},
   "outputs": [
    {
     "name": "stdout",
     "output_type": "stream",
     "text": [
      "[0.01234123 0.02853139 0.04427744 0.05929858 0.07334648 0.08619016\n",
      " 0.09761865 0.10744427 0.11550567 0.12167047 0.12583746 0.1279382\n",
      " 0.1279382  0.12583746 0.12167047 0.11550567 0.10744427 0.09761865\n",
      " 0.08619016 0.07334648 0.05929858 0.04427744 0.02853139 0.01234123]\n"
     ]
    }
   ],
   "source": [
    "points, weights = hemisphere_quadrature()"
   ]
  }
 ],
 "metadata": {
  "kernelspec": {
   "display_name": "eradiate",
   "language": "python",
   "name": "python3"
  },
  "language_info": {
   "codemirror_mode": {
    "name": "ipython",
    "version": 3
   },
   "file_extension": ".py",
   "mimetype": "text/x-python",
   "name": "python",
   "nbconvert_exporter": "python",
   "pygments_lexer": "ipython3",
   "version": "3.9.19"
  }
 },
 "nbformat": 4,
 "nbformat_minor": 2
}
