{
 "cells": [
  {
   "cell_type": "markdown",
   "metadata": {},
   "source": [
    "# Cox-Munk PDF & CDF Test"
   ]
  },
  {
   "cell_type": "code",
   "execution_count": 273,
   "metadata": {},
   "outputs": [],
   "source": [
    "import numpy as np\n",
    "from numpy.polynomial.legendre import leggauss"
   ]
  },
  {
   "cell_type": "code",
   "execution_count": 274,
   "metadata": {},
   "outputs": [],
   "source": [
    "eps = 0.01745154894888401\n",
    "\n",
    "def cos(x):\n",
    "    if x < 0:\n",
    "        x = x + 2 * np.pi\n",
    "    cs = np.cos(x)\n",
    "    if np.abs(cs) < eps:\n",
    "        if x > np.pi / 2 and x < (3 * np.pi) / 2:\n",
    "            cs = np.clip(cs, -1, -eps)\n",
    "        else:\n",
    "            cs = np.clip(cs, eps, 1)\n",
    "    return cs\n",
    "\n",
    "def sin(x): \n",
    "    if x < 0:\n",
    "        x = x + 2 * np.pi\n",
    "    ss = np.sin(x)\n",
    "    if np.abs(ss) < eps:\n",
    "        if x > np.pi:\n",
    "            ss = np.clip(ss, -1, -eps)\n",
    "        else:\n",
    "            ss = np.clip(ss, eps, 1)\n",
    "    return ss\n",
    "\n",
    "def cox_munk(theta_i, theta_o, phi_d, phi_w, u):\n",
    "    c_40 = 0.40\n",
    "    c_22 = 0.12\n",
    "    c_04 = 0.23\n",
    "    c_21 = 0.01 - 0.0086 * u\n",
    "    c_03 = 0.04 - 0.033 * u\n",
    "\n",
    "    sc_sqr = 0.003 + 0.00192 * u\n",
    "    su_sqr = 0.00316 * u\n",
    "\n",
    "    denom = cos(theta_i) + cos(theta_o)\n",
    "    z_x = (-sin(theta_o) * sin(phi_d)) / denom\n",
    "    z_y = (sin(theta_i) + sin(theta_o) * cos(phi_d)) / denom\n",
    "\n",
    "    z_x_prime = z_x * cos(phi_w) + z_y * sin(phi_w)\n",
    "    z_y_prime = -z_x * sin(phi_w) + z_y * cos(phi_w)\n",
    "\n",
    "    ksi = z_x_prime / np.sqrt(sc_sqr)\n",
    "    eta = z_y_prime / np.sqrt(su_sqr)\n",
    "\n",
    "    coeff = 1.0 - (c_21 / 2.0) * (ksi**2 - 1.0) * eta\n",
    "    coeff = coeff - (c_03 / 6.0) * (eta**3 - 3.0 * eta)\n",
    "    coeff = coeff + (c_40 / 24.0) * (ksi**4 - 6.0 * ksi**2 + 3.0)\n",
    "    coeff = coeff + (c_22 / 4.0) * (ksi**2 - 1.0) * (eta**2 - 1.0)\n",
    "    coeff = coeff + (c_04 / 24.0) * (eta**4 - 6.0 * eta**2 + 3.0)\n",
    "    coeff = coeff * np.exp(-0.5 * (ksi**2 + eta**2))\n",
    "    factor = 1.0 / (2.0 * np.pi * np.sqrt(sc_sqr) * np.sqrt(su_sqr))\n",
    "    res = factor * coeff / 4.32\n",
    "\n",
    "    return  res\n",
    "\n",
    "def cox_munk_pp(theta_i, theta_o, phi_d, phi_w, wind_speed):\n",
    "    c_40 = 0.40\n",
    "    c_22 = 0.12\n",
    "    c_04 = 0.23\n",
    "\n",
    "    sigma_c = 0.003 + 0.00192 * wind_speed\n",
    "    sigma_u = 0.00316 * wind_speed\n",
    "\n",
    "    c_21 = 0.01 - 0.0086 * wind_speed\n",
    "    c_03 = 0.04 - 0.033 * wind_speed\n",
    "\n",
    "    denom = cos(theta_i) + cos(theta_o)\n",
    "    z_x = (-sin(theta_o) * sin(phi_d)) / denom\n",
    "    z_y = (sin(theta_i) + sin(theta_o) * cos(phi_d)) / denom\n",
    "\n",
    "    xe = (cos(phi_w) * z_x + sin(phi_w) * z_y) / np.sqrt(sigma_c)\n",
    "    xn = (-sin(phi_w) * z_x + cos(phi_w) * z_y) / np.sqrt(sigma_u)\n",
    "\n",
    "    xe2 = xe * xe\n",
    "    xn2 = xn * xn\n",
    "    \n",
    "    coef = 1.0 - (c_21 / 2.0) * (xe2 - 1.0) * xn - (c_03 / 6.0) * (xn2 - 3.0) * xn\n",
    "    coef = coef + (c_40 / 24.0) * (xe2 * xe2 - 6.0 * xe2 + 3.0)\n",
    "    coef = coef + (c_04 / 24.0) * (xn2 * xn2 - 6.0 * xn2 + 3.0)\n",
    "    coef = coef + (c_22 / 4.0) * (xe2 - 1.0) * (xn2 - 1.0)\n",
    "    \n",
    "    prob = coef / 2.0 / np.pi / np.sqrt(sigma_u) / np.sqrt(sigma_c) * np.exp(-(xe2 + xn2) / 2.0)\n",
    "    return prob / 4.32\n"
   ]
  },
  {
   "cell_type": "code",
   "execution_count": 275,
   "metadata": {},
   "outputs": [],
   "source": [
    "wind_azimuth = 0\n",
    "incoming_zenith = 45\n",
    "incoming_azimuth = 0\n",
    "chi = incoming_azimuth - wind_azimuth\n",
    "zeniths = np.linspace(0, np.deg2rad(89), 90)\n",
    "azimuths = np.linspace(0, 2 * np.pi, 360)\n",
    "data = np.zeros((len(zeniths), len(azimuths)))\n",
    "\n",
    "wind_speed = 1\n",
    "theta_i = np.deg2rad(incoming_zenith)\n",
    "phi_w = np.deg2rad(chi)\n",
    "for i, theta_o in enumerate(zeniths):\n",
    "    for j, phi_o in enumerate(azimuths):\n",
    "        phi_d = np.deg2rad(incoming_azimuth) - phi_o\n",
    "        data[i, j] = cox_munk_pp(theta_i, theta_o, phi_d, phi_w, wind_speed)\n",
    "\n",
    "# Check if data has NaNs\n",
    "if np.isnan(data).any():\n",
    "    print(\"Data contains NaNs\")"
   ]
  },
  {
   "cell_type": "code",
   "execution_count": 276,
   "metadata": {},
   "outputs": [
    {
     "data": {
      "text/plain": [
       "([<matplotlib.axis.YTick at 0x1871baaf0>,\n",
       "  <matplotlib.axis.YTick at 0x18724b4c0>,\n",
       "  <matplotlib.axis.YTick at 0x187274c10>,\n",
       "  <matplotlib.axis.YTick at 0x1872e4550>],\n",
       " [Text(0, 0.0, '0'),\n",
       "  Text(0, 0.5235987755982988, '$\\\\pi/6$'),\n",
       "  Text(0, 1.0471975511965976, '$\\\\pi/3$'),\n",
       "  Text(0, 1.5707963267948966, '$\\\\pi/2$')])"
      ]
     },
     "execution_count": 276,
     "metadata": {},
     "output_type": "execute_result"
    },
    {
     "data": {
      "image/png": "[encoded data removed]",
      "text/plain": [
       "<Figure size 640x480 with 2 Axes>"
      ]
     },
     "metadata": {},
     "output_type": "display_data"
    }
   ],
   "source": [
    "# Plot using Turbo colormap (on a rectangular grid)\n",
    "import matplotlib.pyplot as plt\n",
    "plt.imshow(data, cmap='turbo', origin='lower', extent=[0, 2 * np.pi, 0, np.pi / 2])\n",
    "plt.colorbar()\n",
    "\n",
    "# Set axis titles\n",
    "plt.xlabel('Azimuth (rad)')\n",
    "plt.ylabel('Zenith (rad)')\n",
    "\n",
    "# Set axis ticks\n",
    "plt.xticks([0, np.pi / 2, np.pi, 3 * np.pi / 2, 2 * np.pi], ['0', '$\\pi/2$', '$\\pi$', '$3\\pi/2$', '$2\\pi$'])\n",
    "plt.yticks([0, np.pi / 6, np.pi / 3, np.pi / 2], ['0', '$\\pi/6$', '$\\pi/3$', '$\\pi/2$'])"
   ]
  },
  {
   "cell_type": "code",
   "execution_count": 277,
   "metadata": {},
   "outputs": [],
   "source": [
    "# Quadrature\n",
    "def test_quadrature():\n",
    "    solar_pts = 90\n",
    "    solar_zeniths = np.linspace(0, np.deg2rad(89), solar_pts)\n",
    "    solar_weight = 1.0 / solar_pts\n",
    "    solar_estimate = 0.0\n",
    "\n",
    "    idx = 0\n",
    "    max_idx = len(solar_zeniths)\n",
    "    for solar_zenith in solar_zeniths:\n",
    "        theta_i = solar_zenith\n",
    "        azimuth_pts, azimuth_weights = leggauss(360)\n",
    "        zenith_pts, zenith_weights = leggauss(90)\n",
    "\n",
    "        transformed_azimuths = np.pi * (azimuth_pts + 1)\n",
    "        transformed_zeniths = (np.pi / 4) * (zenith_pts + 1)\n",
    "\n",
    "        x, y = np.meshgrid(transformed_azimuths, transformed_zeniths, indexing='ij')\n",
    "        points = np.vstack([x.ravel(), y.ravel()]).T\n",
    "\n",
    "        w_x, w_y = np.meshgrid(azimuth_weights, zenith_weights, indexing='ij')\n",
    "        weights = (w_x * w_y).ravel() * ((np.pi**2) / 4)\n",
    "\n",
    "        # The function to integrate\n",
    "        def f(theta_o, phi_o):\n",
    "            phi_d = np.deg2rad(incoming_azimuth) - phi_o\n",
    "            return cox_munk_pp(theta_i, theta_o, phi_d, phi_w, wind_speed)\n",
    "            \n",
    "        integrand_values = np.array([f(x, y) for x, y in points])\n",
    "        intgrand = np.sum(integrand_values * weights)\n",
    "        solar_estimate = solar_estimate + intgrand\n",
    "\n",
    "        idx = idx + 1\n",
    "        print(f'Progress: {idx}/{max_idx}')\n",
    "\n",
    "    print(\"Solar estimate: \", solar_estimate * solar_weight)"
   ]
  }
 ],
 "metadata": {
  "kernelspec": {
   "display_name": "eradiate",
   "language": "python",
   "name": "python3"
  },
  "language_info": {
   "codemirror_mode": {
    "name": "ipython",
    "version": 3
   },
   "file_extension": ".py",
   "mimetype": "text/x-python",
   "name": "python",
   "nbconvert_exporter": "python",
   "pygments_lexer": "ipython3",
   "version": "3.9.19"
  }
 },
 "nbformat": 4,
 "nbformat_minor": 2
}
