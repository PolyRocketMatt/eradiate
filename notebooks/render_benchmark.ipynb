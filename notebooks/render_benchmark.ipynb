{
 "cells": [
  {
   "cell_type": "code",
   "execution_count": 46,
   "metadata": {},
   "outputs": [
    {
     "name": "stdout",
     "output_type": "stream",
     "text": [
      "['scalar_mono', 'scalar_mono_double', 'scalar_rgb', 'scalar_spectral', 'llvm_ad_rgb', 'llvm_ad_rgb_double']\n"
     ]
    }
   ],
   "source": [
    "import drjit as dr\n",
    "import mitsuba as mi\n",
    "import numpy as np\n",
    "import matplotlib.pyplot as plt\n",
    "import tqdm as tqdm\n",
    "\n",
    "print(mi.variants())\n",
    "mi.set_variant(\"scalar_rgb\")"
   ]
  },
  {
   "cell_type": "code",
   "execution_count": 47,
   "metadata": {},
   "outputs": [],
   "source": [
    "# Clear the render folder\n",
    "import os\n",
    "import shutil\n",
    "\n",
    "folder = \"renders\"\n",
    "for filename in os.listdir(folder):\n",
    "    file_path = os.path.join(folder, filename)\n",
    "    try:\n",
    "        if os.path.isfile(file_path) or os.path.islink(file_path):\n",
    "            os.unlink(file_path)\n",
    "        elif os.path.isdir(file_path):\n",
    "            shutil.rmtree(file_path)\n",
    "    except Exception as e:\n",
    "        print(\"Failed to delete %s. Reason: %s\" % (file_path, e))"
   ]
  },
  {
   "cell_type": "code",
   "execution_count": 48,
   "metadata": {},
   "outputs": [
    {
     "data": {
      "text/plain": [
       "'wind_speeds = [0.1, 1, 5, 10, 20, 30, 37]\\nzenith_angles = [0, 30, 45, 60, 90]\\nemitter_heights = np.sin(np.deg2rad(zenith_angles))\\nemitter_distances = np.cos(np.deg2rad(zenith_angles))\\nemitter_positions = np.array([emitter_distances, emitter_heights]).T\\n\\n# Scale the heights with a factor of 10\\nemitter_positions[:, 1] *= 10\\n\\n# Scale the distances with a factor of 100\\nemitter_positions[:, 0] *= 100\\n\\nprogress = tqdm.tqdm(total=len(emitter_positions) * len(wind_speeds))\\nfor (z, y) in emitter_positions:\\n    for wind_speed in wind_speeds:\\n        scene = f\"\"\"\\n                    <scene version=\\'3.0.0\\'>\\n                        <default name=\"spp\" value=\"256\"/>\\n                        <default name=\"res\" value=\"256\"/>\\n\\n                        <integrator type=\\'direct\\'/>\\n\\n                        <sensor type=\"perspective\" id=\"sensor\">\\n                            <transform name=\"to_world\">\\n                                <lookat target=\"0.0, 0.0, 1.25\"\\n                                        origin=\"0.0, -12.0, 5.0\"\\n                                        up    =\"0.0, 0.0, 1.0\"/>\\n                            </transform>\\n\\n                            <sampler type=\"independent\">\\n                                <integer name=\"sample_count\" value=\"$spp\"/>\\n                            </sampler>\\n\\n                            <film type=\"hdrfilm\">\\n                                <rfilter type=\"box\"/>\\n                                <integer name=\"width\"  value=\"$res\"/>\\n                                <integer name=\"height\" value=\"$res\"/>\\n                            </film>\\n                        </sensor>\\n\\n                        <shape type=\"rectangle\" id=\"ocean\">\\n                            <transform name=\"to_world\">\\n                                <scale value=\"100.0\"/>\\n                                <translate x=\"0.0\" y=\"0.0\" z=\"-0.5\"/>\\n                            </transform>\\n                            \\n                            <bsdf type=\"oceanic_legacy\">\\n                                <integer name=\"channel\" value=\"3\"/>\\n                                <integer name=\"visual_type\" value=\"0\"/>\\n                                <float name=\"wavelength\" value=\"2.2\"/>\\n                                <float name=\"wind_speed\" value=\"{wind_speed}\"/>\\n                                <float name=\"wind_direction\" value=\"0\"/>\\n                                <float name=\"chlorinity\" value=\"19\"/>\\n                                <float name=\"pigmentation\" value=\"0.3\"/>\\n                                <float name=\"alpha\" value=\"50\"/>\\n                            </bsdf>\\n                        </shape>\\n\\n                        <emitter type=\"directional\" id=\"light1\">\\n                            <vector name=\"direction\" value=\"x=\"0\" y=\"{z}\" z=\"{y}\"/>\\n                            <rgb name=\"intensity\" value=\"100.0\"/>\\n                        </emitter>\\n                    </scene>\\n                \"\"\"\\n        \\n        # Parse the scene\\n        scene = mi.load_string(scene)\\n\\n        # Rendering\\n        image = mi.render(scene, spp=32)\\n\\n        plt.title(f\"Wind speed: {wind_speed} m/s, Emitter position: ({round(z, 2)}, {round(y, 2)})\")\\n        plt.axis(\"off\")\\n        plt.imshow(image ** (1.0 / 2.2)); # approximate sRGB tonemapping\\n\\n        # Save the image in /renders\\n        plt.savefig(f\"renders/wind_speed_{wind_speed}_{round(z, 2)}_{round(y, 2)}.png\")\\n        plt.close()\\n\\n        progress.update(1)\\nprogress.close()'"
      ]
     },
     "execution_count": 48,
     "metadata": {},
     "output_type": "execute_result"
    }
   ],
   "source": [
    "'''wind_speeds = [0.1, 1, 5, 10, 20, 30, 37]\n",
    "zenith_angles = [0, 30, 45, 60, 90]\n",
    "emitter_heights = np.sin(np.deg2rad(zenith_angles))\n",
    "emitter_distances = np.cos(np.deg2rad(zenith_angles))\n",
    "emitter_positions = np.array([emitter_distances, emitter_heights]).T\n",
    "\n",
    "# Scale the heights with a factor of 10\n",
    "emitter_positions[:, 1] *= 10\n",
    "\n",
    "# Scale the distances with a factor of 100\n",
    "emitter_positions[:, 0] *= 100\n",
    "\n",
    "progress = tqdm.tqdm(total=len(emitter_positions) * len(wind_speeds))\n",
    "for (z, y) in emitter_positions:\n",
    "    for wind_speed in wind_speeds:\n",
    "        scene = f\"\"\"\n",
    "                    <scene version='3.0.0'>\n",
    "                        <default name=\"spp\" value=\"256\"/>\n",
    "                        <default name=\"res\" value=\"256\"/>\n",
    "\n",
    "                        <integrator type='direct'/>\n",
    "\n",
    "                        <sensor type=\"perspective\" id=\"sensor\">\n",
    "                            <transform name=\"to_world\">\n",
    "                                <lookat target=\"0.0, 0.0, 1.25\"\n",
    "                                        origin=\"0.0, -12.0, 5.0\"\n",
    "                                        up    =\"0.0, 0.0, 1.0\"/>\n",
    "                            </transform>\n",
    "\n",
    "                            <sampler type=\"independent\">\n",
    "                                <integer name=\"sample_count\" value=\"$spp\"/>\n",
    "                            </sampler>\n",
    "\n",
    "                            <film type=\"hdrfilm\">\n",
    "                                <rfilter type=\"box\"/>\n",
    "                                <integer name=\"width\"  value=\"$res\"/>\n",
    "                                <integer name=\"height\" value=\"$res\"/>\n",
    "                            </film>\n",
    "                        </sensor>\n",
    "\n",
    "                        <shape type=\"rectangle\" id=\"ocean\">\n",
    "                            <transform name=\"to_world\">\n",
    "                                <scale value=\"100.0\"/>\n",
    "                                <translate x=\"0.0\" y=\"0.0\" z=\"-0.5\"/>\n",
    "                            </transform>\n",
    "                            \n",
    "                            <bsdf type=\"oceanic_legacy\">\n",
    "                                <integer name=\"channel\" value=\"3\"/>\n",
    "                                <integer name=\"visual_type\" value=\"0\"/>\n",
    "                                <float name=\"wavelength\" value=\"2.2\"/>\n",
    "                                <float name=\"wind_speed\" value=\"{wind_speed}\"/>\n",
    "                                <float name=\"wind_direction\" value=\"0\"/>\n",
    "                                <float name=\"chlorinity\" value=\"19\"/>\n",
    "                                <float name=\"pigmentation\" value=\"0.3\"/>\n",
    "                                <float name=\"alpha\" value=\"50\"/>\n",
    "                            </bsdf>\n",
    "                        </shape>\n",
    "\n",
    "                        <emitter type=\"directional\" id=\"light1\">\n",
    "                            <vector name=\"direction\" value=\"x=\"0\" y=\"{z}\" z=\"{y}\"/>\n",
    "                            <rgb name=\"intensity\" value=\"100.0\"/>\n",
    "                        </emitter>\n",
    "                    </scene>\n",
    "                \"\"\"\n",
    "        \n",
    "        # Parse the scene\n",
    "        scene = mi.load_string(scene)\n",
    "\n",
    "        # Rendering\n",
    "        image = mi.render(scene, spp=32)\n",
    "\n",
    "        plt.title(f\"Wind speed: {wind_speed} m/s, Emitter position: ({round(z, 2)}, {round(y, 2)})\")\n",
    "        plt.axis(\"off\")\n",
    "        plt.imshow(image ** (1.0 / 2.2)); # approximate sRGB tonemapping\n",
    "\n",
    "        # Save the image in /renders\n",
    "        plt.savefig(f\"renders/wind_speed_{wind_speed}_{round(z, 2)}_{round(y, 2)}.png\")\n",
    "        plt.close()\n",
    "\n",
    "        progress.update(1)\n",
    "progress.close()'''"
   ]
  },
  {
   "cell_type": "code",
   "execution_count": 49,
   "metadata": {},
   "outputs": [
    {
     "data": {
      "image/png": "[encoded data removed]",
      "text/plain": [
       "<Figure size 640x480 with 1 Axes>"
      ]
     },
     "metadata": {},
     "output_type": "display_data"
    }
   ],
   "source": [
    "# Example from file\n",
    "scene = mi.load_file(\"../scenes/ocean.xml\")\n",
    "\n",
    "# Rendering\n",
    "image = mi.render(scene, spp=32)\n",
    "\n",
    "plt.axis(\"off\")\n",
    "plt.imshow(image) # approximate sRGB tonemapping\n",
    "#bmp = scene.sensors()[0].film().bitmap()"
   ]
  },
  {
   "cell_type": "code",
   "execution_count": null,
   "metadata": {},
   "outputs": [],
   "source": []
  }
 ],
 "metadata": {
  "kernelspec": {
   "display_name": "eradiate",
   "language": "python",
   "name": "python3"
  },
  "language_info": {
   "codemirror_mode": {
    "name": "ipython",
    "version": 3
   },
   "file_extension": ".py",
   "mimetype": "text/x-python",
   "name": "python",
   "nbconvert_exporter": "python",
   "pygments_lexer": "ipython3",
   "version": "3.9.19"
  }
 },
 "nbformat": 4,
 "nbformat_minor": 2
}
