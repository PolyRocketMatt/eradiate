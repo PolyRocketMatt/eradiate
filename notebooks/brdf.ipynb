{
 "cells": [
  {
   "cell_type": "markdown",
   "metadata": {},
   "source": [
    "# BRDF Representation"
   ]
  },
  {
   "cell_type": "markdown",
   "metadata": {},
   "source": [
    "## Mitsuba \"Deep Dive\""
   ]
  },
  {
   "cell_type": "code",
   "execution_count": 1,
   "metadata": {},
   "outputs": [
    {
     "name": "stdout",
     "output_type": "stream",
     "text": [
      "['scalar_mono', 'scalar_mono_double', 'scalar_rgb', 'scalar_spectral', 'llvm_ad_rgb', 'llvm_ad_rgb_double']\n"
     ]
    }
   ],
   "source": [
    "import drjit as dr\n",
    "import mitsuba as mi\n",
    "import numpy as np\n",
    "import matplotlib.pyplot as plt\n",
    "from mpl_toolkits.axes_grid1 import make_axes_locatable\n",
    "\n",
    "print(mi.variants())\n",
    "mi.set_variant(\"llvm_ad_rgb_double\")"
   ]
  },
  {
   "cell_type": "code",
   "execution_count": 2,
   "metadata": {},
   "outputs": [],
   "source": [
    "WHITECAP=0\n",
    "GLINT=1\n",
    "UNDERLIGHT=2\n",
    "TOTAL=3\n",
    "\n",
    "channels = [WHITECAP, GLINT, UNDERLIGHT, TOTAL]"
   ]
  },
  {
   "cell_type": "code",
   "execution_count": 3,
   "metadata": {},
   "outputs": [],
   "source": [
    "res = 25\n",
    "azim_vs = np.linspace(0, 2 * np.pi, 2 * res)\n",
    "zen_vs = np.linspace(0, np.deg2rad(89), res)\n",
    "\n",
    "wavelength = 2.2\n",
    "incoming = 15\n",
    "solar_azimuth = 0\n",
    "wind_speed = 10\n",
    "wind_direction = np.deg2rad(0)\n",
    "n_real = 1.333\n",
    "n_imag = 0.0\n",
    "chlorinity = 19\n",
    "pigmentation = 0.3"
   ]
  },
  {
   "cell_type": "code",
   "execution_count": 4,
   "metadata": {},
   "outputs": [
    {
     "ename": "",
     "evalue": "",
     "output_type": "error",
     "traceback": [
      "\u001b[1;31mThe Kernel crashed while executing code in the current cell or a previous cell. \n",
      "\u001b[1;31mPlease review the code in the cell(s) to identify a possible cause of the failure. \n",
      "\u001b[1;31mClick <a href='https://aka.ms/vscodeJupyterKernelCrash'>here</a> for more info. \n",
      "\u001b[1;31mView Jupyter <a href='command:jupyter.viewOutput'>log</a> for further details."
     ]
    }
   ],
   "source": [
    "def sph_to_eucl(theta, phi):\n",
    "    st, ct = dr.sincos(theta)\n",
    "    sp, cp = dr.sincos(phi)\n",
    "    return mi.Vector3f(cp * st, sp * st, ct)"
   ]
  },
  {
   "cell_type": "code",
   "execution_count": null,
   "metadata": {},
   "outputs": [],
   "source": [
    "brdf_values = None\n",
    "brdf_foam = None\n",
    "brdf_glint = None\n",
    "brdf_underlight = None\n",
    "\n",
    "# Create a dummy surface interaction to use for the evaluation of the BSDF\n",
    "si = dr.zeros(mi.SurfaceInteraction3f)\n",
    "\n",
    "# Specify an incident direction with X degrees\n",
    "si.wi = sph_to_eucl(dr.deg2rad(incoming), dr.deg2rad(solar_azimuth))\n",
    "\n",
    "# Set the surface normal to point upwards\n",
    "si.n = mi.Vector3f(0, 0, 1)\n",
    "\n",
    "# Create grid in spherical coordinates and map it into a sphere\n",
    "res = 500\n",
    "zeniths_o, azimuths_o = dr.meshgrid(\n",
    "    dr.linspace(mi.Float, np.deg2rad(1), np.deg2rad(89),     res),\n",
    "    dr.linspace(mi.Float, 0, 2 * dr.pi, 2 * res)\n",
    ")\n",
    "wo = sph_to_eucl(zeniths_o, azimuths_o)\n",
    "\n",
    "for channel in channels:\n",
    "    bsdf = mi.load_dict({\n",
    "        'type': 'oceanic_legacy',\n",
    "        'channel': channel,\n",
    "        'visual_type': 0,\n",
    "        'wavelength': wavelength,\n",
    "        'wind_speed': wind_speed,\n",
    "        'wind_direction': wind_direction,\n",
    "        'chlorinity': chlorinity,\n",
    "        'pigmentation': pigmentation,\n",
    "        'shininess': 50,\n",
    "    })\n",
    "    \n",
    "    #result = bsdf.eval(mi.BSDFContext(), si, wo)\n",
    "    if channel == WHITECAP:\n",
    "        brdf_foam = bsdf.eval(mi.BSDFContext(), si, wo)\n",
    "    elif channel == GLINT:\n",
    "        brdf_glint = bsdf.eval(mi.BSDFContext(), si, wo)\n",
    "    elif channel == UNDERLIGHT:\n",
    "        brdf_underlight = bsdf.eval(mi.BSDFContext(), si, wo)\n",
    "    elif channel == TOTAL:\n",
    "        brdf_values = bsdf.eval(mi.BSDFContext(), si, wo)"
   ]
  },
  {
   "cell_type": "code",
   "execution_count": null,
   "metadata": {},
   "outputs": [],
   "source": [
    "brdf_np = np.array(brdf_values)\n",
    "foam_np = np.array(brdf_foam)\n",
    "glint_np = np.array(brdf_glint)\n",
    "underlight_np = np.array(brdf_underlight)"
   ]
  },
  {
   "cell_type": "code",
   "execution_count": null,
   "metadata": {},
   "outputs": [],
   "source": [
    "brdf_data = brdf_np[:,0]\n",
    "foam_data = foam_np[:,0]\n",
    "glint_data = glint_np[:,0]\n",
    "underlight_data = underlight_np[:,0]"
   ]
  },
  {
   "cell_type": "code",
   "execution_count": null,
   "metadata": {},
   "outputs": [],
   "source": [
    "# Extract red channel of BRDF values and reshape into 2D grid\n",
    "brdf_data = brdf_data.reshape(2 * res, res).T\n",
    "foam_data_vis = foam_data.reshape(2 * res, res).T\n",
    "glint_data_vis = glint_data.reshape(2 * res, res).T\n",
    "underlight_data_vis = underlight_data.reshape(2 * res, res).T\n",
    "\n",
    "dimensional_data = brdf_data.T\n",
    "foam_buffer = foam_data_vis.T\n",
    "glint_buffer = glint_data_vis.T\n",
    "underlight_buffer = underlight_data_vis.T\n",
    "\n",
    "width = len(dimensional_data)\n",
    "height = len(dimensional_data[0])\n",
    "\n",
    "foam_data = np.zeros((width, height))\n",
    "glint_data = np.zeros((width, height))\n",
    "underlight_data = np.zeros((width, height))\n",
    "\n",
    "for x in range(width):\n",
    "    for y in range(height):\n",
    "        f = foam_buffer[x][y]\n",
    "        g = glint_buffer[x][y]\n",
    "        u = underlight_buffer[x][y]\n",
    "        total_val = dimensional_data[x][y]\n",
    "        foam_comp = f / total_val\n",
    "        glint_comp = g / total_val\n",
    "        underlight_comp = u / total_val\n",
    "\n",
    "        foam_data[x][y] = foam_comp\n",
    "        glint_data[x][y] = glint_comp\n",
    "        underlight_data[x][y] = underlight_comp"
   ]
  },
  {
   "cell_type": "code",
   "execution_count": null,
   "metadata": {},
   "outputs": [],
   "source": [
    "# Plot values for spherical coordinates\n",
    "fig, ax = plt.subplots(figsize=(8, 4))\n",
    "visual_set = [foam_data_vis, glint_data_vis, underlight_data_vis, brdf_data]\n",
    "channel = 3\n",
    "im = ax.imshow(visual_set[channel], interpolation='spline36', extent=[0, 2 * np.pi, np.pi / 2, 0], cmap='turbo')\n",
    "\n",
    "# Name the axes\n",
    "plt.xlabel(\"Outgoing Azimuth\")\n",
    "plt.ylabel(\"Outgoing Zenith\")\n",
    "\n",
    "# Add the title\n",
    "degrees = np.degrees(incoming)\n",
    "\n",
    "# Round to 2 decimal places\n",
    "degrees = round(degrees, 2)\n",
    "\n",
    "# Create x_axis tick labels in degrees\n",
    "x_ticks = np.linspace(0, 2 * np.pi, 5)\n",
    "x_labels = np.degrees(x_ticks)\n",
    "x_labels = [round(label, 2) for label in x_labels]\n",
    "plt.xticks(x_ticks, x_labels)\n",
    "\n",
    "# Create y_axis tick labels in degrees\n",
    "y_ticks = np.linspace(0, np.pi / 2, 3)\n",
    "y_labels = np.degrees(y_ticks)\n",
    "y_labels = [round(label, 2) for label in y_labels]\n",
    "plt.yticks(y_ticks, y_labels)\n",
    "\n",
    "# Add Title\n",
    "ax.set_title(f'BRDF | Incoming Zenith: {incoming}°')\n",
    "\n",
    "# Add color bar with same height as the plot\n",
    "divider = make_axes_locatable(ax)\n",
    "cax = divider.append_axes(\"right\", size=\"5%\", pad=0.25)\n",
    "plt.colorbar(im, cax=cax)\n",
    "plt.show()"
   ]
  },
  {
   "cell_type": "code",
   "execution_count": null,
   "metadata": {},
   "outputs": [],
   "source": [
    "# Min/Max values\n",
    "min_val = np.min(brdf_data)\n",
    "max_val = np.max(brdf_data)\n",
    "mean_val = np.mean(brdf_data)\n",
    "mean_exluding_zeros = np.mean(brdf_data[brdf_data != 0])\n",
    "zeros = np.count_nonzero(brdf_data == 0)\n",
    "\n",
    "print(f\"Min: {min_val}, Max: {max_val}, Mean: {mean_val}, Mean excluding zeros: {mean_exluding_zeros}\")\n",
    "print(f\"Zeros: {zeros}, Total: {res * 2 * res}, Percentage: {zeros / (res * 2 * res) * 100}%\")"
   ]
  },
  {
   "cell_type": "markdown",
   "metadata": {},
   "source": [
    "## Converting to Polar representation of the BRDF"
   ]
  },
  {
   "cell_type": "code",
   "execution_count": null,
   "metadata": {},
   "outputs": [],
   "source": [
    "# Combine zeniths, azimuths and BRDF values into a single array\n",
    "zeniths = np.array(zeniths_o)\n",
    "azimuths = np.array(azimuths_o)\n",
    "brdf_data_new = np.array(brdf_data).T.flatten()\n",
    "data = np.stack([zeniths, azimuths, brdf_data_new], axis=1)\n",
    "\n",
    "# Remove rows where the zenith (first element) is greater than 90 degrees\n",
    "data = data[data[:, 0] <= np.pi / 2]\n",
    "\n",
    "# Extract the new values\n",
    "zeniths_t = data[:, 0]\n",
    "azimuths_t = data[:, 1]\n",
    "brdf_data_t = data[:, 2]"
   ]
  },
  {
   "cell_type": "markdown",
   "metadata": {},
   "source": [
    "### Simple Polar Plot"
   ]
  },
  {
   "cell_type": "code",
   "execution_count": null,
   "metadata": {},
   "outputs": [],
   "source": [
    "def visualize():\n",
    "    fig, ax = plt.subplots(subplot_kw={'projection': 'polar'})\n",
    "    ax.scatter(azimuths_t, zeniths_t, c=brdf_data_t, cmap='turbo', s=1)\n",
    "    ax.grid(False)\n",
    "    ax.set_yticklabels([])\n",
    "    cbar = fig.colorbar(im, ax=ax, orientation='vertical')\n",
    "    ax.set_ylim(0, np.pi / 2)\n",
    "    plt.show()\n",
    "\n",
    "#visualize()"
   ]
  },
  {
   "cell_type": "code",
   "execution_count": null,
   "metadata": {},
   "outputs": [],
   "source": [
    "# Visualize component values\n",
    "slice_azimuth = np.deg2rad(180)\n",
    "\n",
    "# Find the index of the slice azimuth\n",
    "t = slice_azimuth / (2 * np.pi)\n",
    "slice_index = int(t * 2 * res)\n",
    "\n",
    "# Extract the slice\n",
    "slice_foam_data = foam_buffer[slice_index, :]\n",
    "slice_glint_data = glint_buffer[slice_index, :]\n",
    "slice_underlight_data = underlight_buffer[slice_index, :]\n",
    "\n",
    "# Plot the slice\n",
    "fig, ax = plt.subplots()\n",
    "\n",
    "# Plot the slice by rescaling the x-axis between 0 and 90 degrees\n",
    "x = np.linspace(0, np.pi / 2, res)\n",
    "\n",
    "# X to degrees\n",
    "x = np.degrees(x)\n",
    "\n",
    "ax.plot(x, slice_foam_data, label='Foam')\n",
    "ax.plot(x, slice_glint_data, label='Glint')\n",
    "ax.plot(x, slice_underlight_data, label='Underlight')\n",
    "\n",
    "ax.set_xlabel('Outgoing Zenith')\n",
    "ax.set_ylabel('Component Value')\n",
    "ax.set_title(f'Slice of BRDF')\n",
    "plt.show()"
   ]
  },
  {
   "cell_type": "code",
   "execution_count": null,
   "metadata": {},
   "outputs": [],
   "source": [
    "# Visualize a slice of the BRDF\n",
    "slice_azimuth = np.deg2rad(180)\n",
    "\n",
    "# Find the index of the slice azimuth\n",
    "t = slice_azimuth / (2 * np.pi)\n",
    "slice_index = int(t * 2 * res)\n",
    "\n",
    "# Extract the slice\n",
    "slice_data = dimensional_data[slice_index, :]\n",
    "\n",
    "# Plot the slice\n",
    "fig, ax = plt.subplots()\n",
    "\n",
    "# Plot the slice by rescaling the x-axis between 0 and 90 degrees\n",
    "x = np.linspace(0, np.pi / 2, res)\n",
    "\n",
    "# X to degrees\n",
    "x = np.degrees(x)\n",
    "\n",
    "ax.plot(x, slice_data, label='Slice')\n",
    "ax.set_xlabel('Outgoing Zenith')\n",
    "ax.set_ylabel('BRDF Value')\n",
    "ax.set_title(f'Slice of BRDF')\n",
    "plt.show()\n"
   ]
  },
  {
   "cell_type": "code",
   "execution_count": null,
   "metadata": {},
   "outputs": [],
   "source": [
    "# Component Diagnostic\n",
    "print(f'Foam:')\n",
    "print(f'    Min: {np.min(foam_data)}')\n",
    "print(f'    Max: {np.max(foam_data)}')\n",
    "print(f'    Mean: {np.mean(foam_data)}')\n",
    "\n",
    "print(f'Glint:')\n",
    "print(f'    Min: {np.min(glint_data)}')\n",
    "print(f'    Max: {np.max(glint_data)}')\n",
    "print(f'    Mean: {np.mean(glint_data)}')\n",
    "\n",
    "print(f'Underlight:')\n",
    "print(f'    Min: {np.min(underlight_data)}')\n",
    "print(f'    Max: {np.max(underlight_data)}')\n",
    "print(f'    Mean: {np.mean(underlight_data)}')"
   ]
  },
  {
   "cell_type": "code",
   "execution_count": null,
   "metadata": {},
   "outputs": [],
   "source": [
    "# Visualize a slice of the components of the BRDF\n",
    "slice_azimuth = np.deg2rad(180)\n",
    "\n",
    "# Find the index of the slice azimuth\n",
    "t = slice_azimuth / (2 * np.pi)\n",
    "slice_index = int(t * 2 * res)\n",
    "\n",
    "# Extract the slice\n",
    "slice_foam_data = foam_data[slice_index, :]\n",
    "slice_glint_data = glint_data[slice_index, :]\n",
    "slice_underlight_data = underlight_data[slice_index, :]\n",
    "\n",
    "# Plot the slice\n",
    "fig, ax = plt.subplots()\n",
    "\n",
    "# Plot the slice by rescaling the x-axis between 0 and 90 degrees\n",
    "x = np.linspace(0, np.pi / 2, res)\n",
    "\n",
    "# X to degrees\n",
    "x = np.degrees(x)\n",
    "\n",
    "ax.plot(x, slice_foam_data, label='Foam')\n",
    "ax.plot(x, slice_glint_data, label='Glint')\n",
    "ax.plot(x, slice_underlight_data, label='Underlight')\n",
    "\n",
    "ax.set_xlabel('Outgoing Zenith')\n",
    "ax.set_ylabel('BRDF Component Share')\n",
    "ax.set_title(f'Slice of BRDF')\n",
    "\n",
    "plt.legend()\n",
    "\n",
    "plt.show()"
   ]
  }
 ],
 "metadata": {
  "kernelspec": {
   "display_name": "eradiate",
   "language": "python",
   "name": "python3"
  },
  "language_info": {
   "codemirror_mode": {
    "name": "ipython",
    "version": 3
   },
   "file_extension": ".py",
   "mimetype": "text/x-python",
   "name": "python",
   "nbconvert_exporter": "python",
   "pygments_lexer": "ipython3",
   "version": "3.9.19"
  }
 },
 "nbformat": 4,
 "nbformat_minor": 2
}
