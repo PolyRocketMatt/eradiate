{
 "cells": [
  {
   "cell_type": "code",
   "execution_count": 36,
   "metadata": {},
   "outputs": [],
   "source": [
    "import numpy as np"
   ]
  },
  {
   "cell_type": "code",
   "execution_count": 37,
   "metadata": {},
   "outputs": [],
   "source": [
    "# Fresnel visualization\n",
    "m_salinity_factor = 0.00017492711\n",
    "\n",
    "def friedman_sverdrup_salinity(chlorinity):\n",
    "    return 0.03 + 1.805 * chlorinity\n",
    "\n",
    "def comp_chi(theta_i, theta_o, phi):\n",
    "    cos_two_chi = np.cos(theta_o) * np.cos(theta_i) + np.sin(theta_o) * np.sin(theta_i) * np.cos(phi)\n",
    "    return np.arccos(cos_two_chi) / 2\n",
    "\n",
    "def u_sqr(a_1, a_2):\n",
    "    return np.abs(a_1 + a_2) / 2.0\n",
    "\n",
    "def v_sqr(a_1, a_2):\n",
    "    return np.abs(-a_1 + a_2) / 2.0\n",
    "\n",
    "def a_1(n_real_sqr, n_cplx_sqr, chi):\n",
    "    return np.abs(n_real_sqr - n_cplx_sqr - np.square(np.sin(chi)))\n",
    "\n",
    "def a_2(n_real_sqr, n_cplx_sqr, chi):\n",
    "    t_1 = (n_real_sqr - n_cplx_sqr - np.square(np.sin(chi)))\n",
    "    t_2 = 4.0 * n_real_sqr * n_cplx_sqr\n",
    "    return np.sqrt(np.square(t_1) + t_2)\n",
    "\n",
    "def b_1(n_real_sqr, n_cplx_sqr, chi):\n",
    "    return (n_real_sqr - n_cplx_sqr) * np.cos(chi)\n",
    "\n",
    "def b_2(n_real, n_cplx, chi):\n",
    "    return 2.0 * (n_real + n_cplx) * np.cos(chi)\n",
    "\n",
    "def fresnel(theta_i, theta_o, phi_i, phi_o, n_real, n_cplx, chlorinity):\n",
    "    phi_rel = phi_i - phi_o\n",
    "    chi = comp_chi(theta_i, theta_o, phi_rel)\n",
    "    cos_chi = np.cos(chi)\n",
    "\n",
    "    salinity = friedman_sverdrup_salinity(chlorinity)\n",
    "    n_real_corrected = n_real + m_salinity_factor * salinity\n",
    "    n_real_sqr = np.square(n_real_corrected)\n",
    "    n_cplx_sqr = np.square(n_cplx)\n",
    "\n",
    "    a1 = a_1(n_real_sqr, n_cplx_sqr, chi)\n",
    "    a2 = a_2(n_real_sqr, n_cplx_sqr, chi)\n",
    "\n",
    "    b1 = b_1(n_real_sqr, n_cplx_sqr, chi)\n",
    "    b2 = b_2(n_real_corrected, n_cplx, chi)\n",
    "\n",
    "    m_u_sqr = u_sqr(a1, a2)\n",
    "    m_v_sqr = v_sqr(a1, a2)\n",
    "\n",
    "    u = np.sqrt(m_u_sqr)\n",
    "    v = np.sqrt(m_v_sqr)\n",
    "\n",
    "    left = (np.square(b1 - u) + np.square(b2 + v)) / (np.square(b1 + u) + np.square(b2 - v))\n",
    "    right = (np.square(cos_chi - u) + m_v_sqr) / (np.square(cos_chi + u) + m_v_sqr)\n",
    "\n",
    "    return 0.5 * (left + right)\n"
   ]
  },
  {
   "cell_type": "code",
   "execution_count": 38,
   "metadata": {},
   "outputs": [],
   "source": [
    "ior_wavelengths = [ 0.200, 0.225, 0.250, 0.275, 0.300, 0.325, 0.345 ,0.375, 0.400, 0.425 ,\n",
    "                    0.445, 0.475, 0.500, 0.525, 0.550, 0.575, 0.600, 0.625, 0.650, 0.675,\n",
    "                    0.700, 0.725, 0.750, 0.775, 0.800, 0.825, 0.850, 0.875, 0.900, 0.925,\n",
    "                    0.950, 0.975, 1.000, 1.200, 1.400, 1.600, 1.800, 2.000, 2.200, 2.400, \n",
    "                    2.600, 2.650, 2.700, 2.750, 2.800, 2.850, 2.900, 2.950, 3.000, 3.050,\n",
    "                    3.100, 3.150, 3.200, 3.250, 3.300, 3.350, 3.400, 3.450, 3.500, 3.600,\n",
    "                    3.700, 3.800, 3.900, 4.000 ]\n",
    "ior_real_data = [   1.369, 1.373, 1.362, 1.354, 1.349, 1.346, 1.343, 1.341, 1.339, 1.338,\n",
    "                    1.337, 1.336, 1.335, 1.334, 1.333, 1.333, 1.332, 1.332, 1.331, 1.331,\n",
    "                    1.331, 1.330, 1.330, 1.330, 1.329, 1.329, 1.329, 1.328, 1.328, 1.328, \n",
    "                    1.327, 1.327, 1.327, 1.324, 1.321, 1.317, 1.312, 1.306, 1.296, 1.279,\n",
    "                    1.242, 1.219, 1.188, 1.157, 1.142, 1.149, 1.201, 1.292, 1.371, 1.426,\n",
    "                    1.467, 1.483, 1.478, 1.467, 1.450, 1.432, 1.420, 1.410, 1.400, 1.385,\n",
    "                    1.374, 1.364, 1.357, 1.351 ]\n",
    "ior_cplx_data = [   1.10e-07, 4.90e-08, 3.35e-08, 2.35e-08, 1.60e-08, \n",
    "                    1.08e-08, 6.50e-09, 3.50e-09, 1.86e-09, 1.30e-09, \n",
    "                    1.02e-09, 9.35e-10, 1.00e-09, 1.32e-09, 1.96e-09, \n",
    "                    3.60e-09, 1.09e-08, 1.39e-08, 1.64e-08, 2.23e-08, \n",
    "                    3.35e-08, 9.15e-08, 1.56e-07, 1.48e-07, 1.25e-07, \n",
    "                    1.82e-07, 2.93e-07, 3.91e-07, 4.86e-07, 1.06e-06, \n",
    "                    2.93e-06, 3.48e-06, 2.89e-06, 9.89e-06, 1.38e-04, \n",
    "                    8.55e-05, 1.15e-04, 1.10e-03, 2.89e-04, 9.56e-04, \n",
    "                    3.17e-03, 6.70e-03, 1.90e-02, 5.90e-02, 1.15e-01, \n",
    "                    1.85e-01, 2.68e-01, 2.98e-01, 2.72e-01, 2.40e-01, \n",
    "                    1.92e-01, 1.35e-01, 9.24e-02, 6.10e-02, 3.68e-02, \n",
    "                    2.61e-02, 1.95e-02, 1.32e-02, 9.40e-03, 5.15e-03, \n",
    "                    3.60e-03, 3.40e-03, 3.80e-03, 4.60e-03 ]"
   ]
  },
  {
   "cell_type": "code",
   "execution_count": 39,
   "metadata": {},
   "outputs": [],
   "source": [
    "# Obtain test wavelengths and their IOR\n",
    "wavelengths = [ 0.55, 0.66, 0.87, 1.6  ]\n",
    "\n",
    "def ior(wavelength):\n",
    "    if wavelength < ior_wavelengths[0] or wavelength > ior_wavelengths[-1]:\n",
    "        return (1.0, 0.0)\n",
    "    n_real = np.interp(wavelength, ior_wavelengths, ior_real_data)\n",
    "    n_cplx = np.interp(wavelength, ior_wavelengths, ior_cplx_data)\n",
    "    return (n_real, n_cplx)\n",
    "\n",
    "wavelengths_ior = [ ior(w) for w in wavelengths ]"
   ]
  },
  {
   "cell_type": "code",
   "execution_count": 40,
   "metadata": {},
   "outputs": [],
   "source": [
    "# Chlorinity is often taken to be 19\n",
    "chlorinity = 19\n",
    "\n",
    "# Compute the FRESNEL for a fixed azimuth and varying incidence angles\n",
    "N = 46\n",
    "zenith_vs = np.linspace(0, np.pi / 4, N)\n",
    "\n",
    "azimuth_i = 0.0\n",
    "azimuth_o = 0.0"
   ]
  },
  {
   "cell_type": "code",
   "execution_count": 41,
   "metadata": {},
   "outputs": [
    {
     "name": "stderr",
     "output_type": "stream",
     "text": [
      "/tmp/ipykernel_6336/2138197590.py:9: RuntimeWarning: invalid value encountered in arccos\n",
      "  return np.arccos(cos_two_chi) / 2\n"
     ]
    }
   ],
   "source": [
    "# Actual computation of values\n",
    "fresnel_result = {}\n",
    "\n",
    "for i in range(len(wavelengths)):\n",
    "    wavelength_result = {}\n",
    "    for zenith in zenith_vs:\n",
    "        wavelength = wavelengths[i]\n",
    "        n_real, n_cplx = wavelengths_ior[i]\n",
    "        fresnel_coeff = fresnel(zenith, zenith, azimuth_i, azimuth_o, n_real, n_cplx, chlorinity)\n",
    "        wavelength_result[zenith] = fresnel_coeff\n",
    "    fresnel_result[wavelength] = wavelength_result"
   ]
  },
  {
   "cell_type": "code",
   "execution_count": 42,
   "metadata": {},
   "outputs": [
    {
     "data": {
      "image/png": "[encoded data removed]",
      "text/plain": [
       "<Figure size 640x480 with 1 Axes>"
      ]
     },
     "metadata": {},
     "output_type": "display_data"
    }
   ],
   "source": [
    "# Visualize the results\n",
    "import matplotlib.pyplot as plt\n",
    "\n",
    "# Visualize as black, red, green, blue\n",
    "colors = ['black', 'red', 'green', 'blue']\n",
    "\n",
    "for i in range(len(wavelengths)):\n",
    "    wavelength = wavelengths[i]\n",
    "    color = colors[i]\n",
    "    zenith_in_deg = [np.degrees(zenith) for zenith in zenith_vs]\n",
    "\n",
    "    plt.plot(zenith_in_deg, [fresnel_result[wavelength][zenith] for zenith in zenith_vs], label=f'{wavelength} nm', color=color)\n",
    "\n",
    "plt.xlabel('Zenith angle (incident/outgoing)')\n",
    "plt.ylabel('Fresnel coefficient')\n",
    "plt.legend()\n",
    "plt.show()\n"
   ]
  }
 ],
 "metadata": {
  "kernelspec": {
   "display_name": "eradiate",
   "language": "python",
   "name": "python3"
  },
  "language_info": {
   "codemirror_mode": {
    "name": "ipython",
    "version": 3
   },
   "file_extension": ".py",
   "mimetype": "text/x-python",
   "name": "python",
   "nbconvert_exporter": "python",
   "pygments_lexer": "ipython3",
   "version": "3.9.19"
  }
 },
 "nbformat": 4,
 "nbformat_minor": 2
}
