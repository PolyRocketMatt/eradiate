{
 "cells": [
  {
   "cell_type": "markdown",
   "metadata": {},
   "source": [
    "# Fresnel Coefficient\n",
    "\n",
    "The setup for the experiment is to lock the azimuthal angles of both the incoming and outgoing directions. The outgoing zenith angle can be set fixed to the experiment itself. The zenith of the incoming direction is varied over an inverval of 0 to 45 degrees to obtain the result.\n",
    "\n",
    "![Fresnel](fresnel_setup.png)"
   ]
  },
  {
   "cell_type": "code",
   "execution_count": 365,
   "metadata": {},
   "outputs": [],
   "source": [
    "import numpy as np"
   ]
  },
  {
   "cell_type": "code",
   "execution_count": 366,
   "metadata": {},
   "outputs": [],
   "source": [
    "# Fresnel visualization\n",
    "m_salinity_factor = 0.00017492711\n",
    "\n",
    "def friedman_sverdrup_salinity(chlorinity):\n",
    "    return 0.03 + 1.805 * chlorinity\n",
    "\n",
    "def fresnel_oo(theta_i, theta_o, phi_i, phi_o, n_real, chlorinity):\n",
    "    correction = m_salinity_factor * friedman_sverdrup_salinity(chlorinity)\n",
    "    n_real += correction\n",
    "    ior_fraction = 1.000293 / n_real\n",
    "    theta_t = np.arcsin(np.sin(theta_i) * ior_fraction)\n",
    "\n",
    "    diff = theta_i - theta_t\n",
    "    add = theta_i + theta_t\n",
    "\n",
    "    left = np.square(np.sin(diff) / np.sin(add))\n",
    "    right = np.square(np.tan(diff) / np.tan(add))\n",
    "\n",
    "    return 0.5 * (left + right)"
   ]
  },
  {
   "cell_type": "code",
   "execution_count": 367,
   "metadata": {},
   "outputs": [],
   "source": [
    "ior_wavelengths = [ 0.200, 0.225, 0.250, 0.275, 0.300, 0.325, 0.345 ,0.375, 0.400, 0.425 ,\n",
    "                    0.445, 0.475, 0.500, 0.525, 0.550, 0.575, 0.600, 0.625, 0.650, 0.675,\n",
    "                    0.700, 0.725, 0.750, 0.775, 0.800, 0.825, 0.850, 0.875, 0.900, 0.925,\n",
    "                    0.950, 0.975, 1.000, 1.200, 1.400, 1.600, 1.800, 2.000, 2.200, 2.400, \n",
    "                    2.600, 2.650, 2.700, 2.750, 2.800, 2.850, 2.900, 2.950, 3.000, 3.050,\n",
    "                    3.100, 3.150, 3.200, 3.250, 3.300, 3.350, 3.400, 3.450, 3.500, 3.600,\n",
    "                    3.700, 3.800, 3.900, 4.000 ]\n",
    "ior_real_data = [   1.369, 1.373, 1.362, 1.354, 1.349, 1.346, 1.343, 1.341, 1.339, 1.338,\n",
    "                    1.337, 1.336, 1.335, 1.334, 1.333, 1.333, 1.332, 1.332, 1.331, 1.331,\n",
    "                    1.331, 1.330, 1.330, 1.330, 1.329, 1.329, 1.329, 1.328, 1.328, 1.328, \n",
    "                    1.327, 1.327, 1.327, 1.324, 1.321, 1.317, 1.312, 1.306, 1.296, 1.279,\n",
    "                    1.242, 1.219, 1.188, 1.157, 1.142, 1.149, 1.201, 1.292, 1.371, 1.426,\n",
    "                    1.467, 1.483, 1.478, 1.467, 1.450, 1.432, 1.420, 1.410, 1.400, 1.385,\n",
    "                    1.374, 1.364, 1.357, 1.351 ]"
   ]
  },
  {
   "cell_type": "code",
   "execution_count": 368,
   "metadata": {},
   "outputs": [],
   "source": [
    "# Obtain test wavelengths and their IOR\n",
    "wavelengths = [ 0.55 ] #, 0.66, 0.87, 1.6  ]\n",
    "\n",
    "def ior_water(wavelength):\n",
    "    if wavelength < ior_wavelengths[0] or wavelength > ior_wavelengths[-1]:\n",
    "        return (1.0, 0.0)\n",
    "    n_real = np.interp(wavelength, ior_wavelengths, ior_real_data)\n",
    "    return n_real\n",
    "\n",
    "wavelengths_ior = [ ior_water(w) for w in wavelengths ]"
   ]
  },
  {
   "cell_type": "code",
   "execution_count": 369,
   "metadata": {},
   "outputs": [],
   "source": [
    "PI = np.pi\n",
    "\n",
    "# Chlorinity is often taken to be 19\n",
    "chlorinity = 19\n",
    "\n",
    "# Compute the FRESNEL for a fixed azimuth and varying incidence angles\n",
    "azimuth_max = 90\n",
    "N = azimuth_max\n",
    "zenith_vs = np.linspace(0, azimuth_max * PI / 180, N)\n",
    "\n",
    "azimuth_i = 0.0\n",
    "azimuth_o = PI\n",
    "zenith_o = 0"
   ]
  },
  {
   "cell_type": "code",
   "execution_count": 370,
   "metadata": {},
   "outputs": [
    {
     "name": "stderr",
     "output_type": "stream",
     "text": [
      "/var/folders/2y/rhmx4lpx7yj6c8p50ldw1x_c0000gp/T/ipykernel_46560/2359647064.py:31: RuntimeWarning: invalid value encountered in scalar divide\n",
      "  left = np.square(np.sin(diff) / np.sin(add))\n",
      "/var/folders/2y/rhmx4lpx7yj6c8p50ldw1x_c0000gp/T/ipykernel_46560/2359647064.py:32: RuntimeWarning: invalid value encountered in scalar divide\n",
      "  right = np.square(np.tan(diff) / np.tan(add))\n"
     ]
    }
   ],
   "source": [
    "# Actual computation of values\n",
    "fresnel_result = {}\n",
    "\n",
    "for i in range(len(wavelengths)):\n",
    "    wavelength_result = {}\n",
    "    for zenith_i in zenith_vs:\n",
    "        wavelength = wavelengths[i]\n",
    "        n_real = wavelengths_ior[i]\n",
    "        fresnel_coeff = fresnel_oo(zenith_i, zenith_o, azimuth_i, azimuth_o, n_real, chlorinity)\n",
    "        wavelength_result[zenith_i] = fresnel_coeff\n",
    "    fresnel_result[wavelength] = wavelength_result"
   ]
  },
  {
   "cell_type": "code",
   "execution_count": 371,
   "metadata": {},
   "outputs": [
    {
     "data": {
      "image/png": "[encoded data removed]",
      "text/plain": [
       "<Figure size 640x480 with 1 Axes>"
      ]
     },
     "metadata": {},
     "output_type": "display_data"
    }
   ],
   "source": [
    "# Visualize the results\n",
    "import matplotlib.pyplot as plt\n",
    "\n",
    "# Visualize as black, red, green, blue\n",
    "colors = ['black', 'red', 'green', 'blue']\n",
    "\n",
    "for i in range(len(wavelengths)):\n",
    "    wavelength = wavelengths[i]\n",
    "    color = colors[i]\n",
    "    zenith_in_deg = [np.degrees(zenith) for zenith in zenith_vs]\n",
    "\n",
    "    # Plot as dots\n",
    "    plt.scatter(zenith_in_deg, [fresnel_result[wavelength][zenith] for zenith in zenith_vs], label=f'{wavelength} nm', color=color)\n",
    "    \n",
    "# Visualize range 0 to 90 degrees\n",
    "plt.xlim([0, 90])\n",
    "plt.ylim([0.0, 1])\n",
    "\n",
    "# Add labels\n",
    "plt.xlabel('Zenith angle (incident/outgoing)')\n",
    "plt.ylabel('Fresnel coefficient')\n",
    "\n",
    "# Add legend\n",
    "plt.legend()\n",
    "\n",
    "# Show the plot\n",
    "plt.show()\n"
   ]
  }
 ],
 "metadata": {
  "kernelspec": {
   "display_name": "eradiate",
   "language": "python",
   "name": "python3"
  },
  "language_info": {
   "codemirror_mode": {
    "name": "ipython",
    "version": 3
   },
   "file_extension": ".py",
   "mimetype": "text/x-python",
   "name": "python",
   "nbconvert_exporter": "python",
   "pygments_lexer": "ipython3",
   "version": "3.9.19"
  }
 },
 "nbformat": 4,
 "nbformat_minor": 2
}
